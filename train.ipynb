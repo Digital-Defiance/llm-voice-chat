{
 "cells": [
  {
   "cell_type": "code",
   "execution_count": null,
   "metadata": {},
   "outputs": [],
   "source": [
    "!pip install -r .devcontainer/requirements.txt"
   ]
  },
  {
   "cell_type": "code",
   "execution_count": 9,
   "metadata": {},
   "outputs": [],
   "source": [
    "from train.config import TrainingLoopFactory, MLFlowSettings, AWSFactory\n",
    "from model import ModelFactory, gpt2_encoder\n",
    "import os\n",
    "\n",
    "\n",
    "\n",
    "aws_factory = AWSFactory(\n",
    "    # access_key_id = \"*\",\n",
    "    # secret_access_key = \"*\",\n",
    ")\n",
    "\n",
    "training_loop_factory = TrainingLoopFactory(\n",
    "    number_of_epochs = 100,\n",
    "    number_of_batches = 10,\n",
    "    loss_function = \"CrossEntropyLoss\",\n",
    "    batch_size = 32,\n",
    "    input_text_file = \"train/static/raw_data.txt\",\n",
    "    split_ratio = 0.9,\n",
    ")\n",
    "\n",
    "mlflow_settings = MLFlowSettings(\n",
    "    experiment_id = 5,\n",
    "    # run_id = None,\n",
    "    # tracking_uri = \"*\",\n",
    "    # tracking_username = \"*\",\n",
    "    # tracking_password = \"*\",\n",
    "    log_system_metrics = True,\n",
    "    is_local = True,\n",
    ")\n",
    "\n",
    "model_factory = ModelFactory(\n",
    "    coordinates = 300,\n",
    "    tokens = gpt2_encoder.max_token_value,\n",
    "    words = 25,\n",
    "    number_of_blocks = 10,\n",
    "    number_of_heads = 20,\n",
    "    bias = False,\n",
    "    attention = \"metric\"# \"scaled_dot_product\", # or \"metric\"\n",
    ")\n",
    "\n",
    "for settings in [training_loop_factory, model_factory, mlflow_settings, aws_factory]:\n",
    "    os.environ.update(settings.to_exports())\n",
    "\n",
    "del os.environ[\"MLFLOW_RUN_ID\"]\n",
    "\n"
   ]
  },
  {
   "cell_type": "code",
   "execution_count": 13,
   "metadata": {},
   "outputs": [
    {
     "name": "stdout",
     "output_type": "stream",
     "text": [
      "2024-01-12 18:36:57,563 [INFO] Using device cpu\n",
      "2024-01-12 18:36:57,563 [INFO] Using torch version 2.1.2+cu121\n",
      "2024-01-12 18:36:57,563 [INFO] Using mlflow version 2.9.2\n",
      "2024-01-12 18:36:57,565 [INFO] Connecting to MLFlow and starting\n",
      "2024-01-12 18:36:57,565 [INFO] Starting run with kwargs {'run_id': None, 'experiment_id': 5, 'log_system_metrics': True}\n",
      "2024/01/12 18:36:57 WARNING mlflow.system_metrics.system_metrics_monitor: Skip logging GPU metrics because creating `GPUMonitor` failed with error: `pynvml` is not installed, to log GPU metrics please run `pip install pynvml` to install it..\n",
      "2024/01/12 18:36:57 INFO mlflow.system_metrics.system_metrics_monitor: Started monitoring system metrics.\n",
      "2024-01-12 18:36:57,905 [INFO] Loading model\n",
      "(1) lr=2.28e-07: 100%|█████████████| 10/10 [00:37<00:00,  3.71s/it, avg loss=11]\n",
      "(2) lr=4.56e-07: 100%|█████████████| 10/10 [00:35<00:00,  3.50s/it, avg loss=11]\n",
      "/usr/local/lib/python3.10/site-packages/_distutils_hack/__init__.py:18: UserWarning: Distutils was imported before Setuptools, but importing Setuptools also replaces the `distutils` module in `sys.modules`. This may lead to undesirable behaviors or errors. To avoid these issues, avoid using distutils directly, ensure that setuptools is installed in the traditional way (e.g. not an editable install), and/or make sure that setuptools is always imported before distutils.\n",
      "  warnings.warn(\n",
      "/usr/local/lib/python3.10/site-packages/_distutils_hack/__init__.py:33: UserWarning: Setuptools is replacing distutils.\n",
      "  warnings.warn(\"Setuptools is replacing distutils.\")\n",
      "(3) lr=6.85e-07: 100%|█████████████| 10/10 [00:34<00:00,  3.45s/it, avg loss=11]\n",
      "(4) lr=9.13e-07: 100%|█████████████| 10/10 [00:33<00:00,  3.38s/it, avg loss=11]\n",
      "(5) lr=1.14e-06: 100%|█████████████| 10/10 [00:34<00:00,  3.42s/it, avg loss=11]\n",
      "(6) lr=1.37e-06: 100%|█████████████| 10/10 [00:34<00:00,  3.41s/it, avg loss=11]\n",
      "(7) lr=1.60e-06: 100%|█████████████| 10/10 [00:34<00:00,  3.43s/it, avg loss=11]\n",
      "(8) lr=1.83e-06: 100%|█████████████| 10/10 [00:33<00:00,  3.37s/it, avg loss=11]\n",
      "(9) lr=2.05e-06: 100%|█████████████| 10/10 [00:34<00:00,  3.41s/it, avg loss=11]\n",
      "(10) lr=2.28e-06: 100%|████████████| 10/10 [00:33<00:00,  3.37s/it, avg loss=11]\n",
      "2024/01/12 18:43:56 WARNING mlflow.models.model: Logging model metadata to the tracking server has failed. The model artifacts have been logged successfully under s3://digitaldefiancemlartifacts/5/9475994d7cd04b8cb522484b442441f7/artifacts. Set logging level to DEBUG via `logging.getLogger(\"mlflow\").setLevel(logging.DEBUG)` to see the full traceback.\n",
      "(11) lr=2.51e-06: 100%|██████████| 10/10 [00:33<00:00,  3.36s/it, avg loss=10.9]\n",
      "2024/01/12 18:44:37 WARNING mlflow.models.model: Logging model metadata to the tracking server has failed. The model artifacts have been logged successfully under s3://digitaldefiancemlartifacts/5/9475994d7cd04b8cb522484b442441f7/artifacts. Set logging level to DEBUG via `logging.getLogger(\"mlflow\").setLevel(logging.DEBUG)` to see the full traceback.\n",
      "(12) lr=2.74e-06: 100%|██████████| 10/10 [00:33<00:00,  3.39s/it, avg loss=10.9]\n",
      "2024/01/12 18:45:18 WARNING mlflow.models.model: Logging model metadata to the tracking server has failed. The model artifacts have been logged successfully under s3://digitaldefiancemlartifacts/5/9475994d7cd04b8cb522484b442441f7/artifacts. Set logging level to DEBUG via `logging.getLogger(\"mlflow\").setLevel(logging.DEBUG)` to see the full traceback.\n",
      "(13) lr=2.97e-06: 100%|██████████| 10/10 [00:34<00:00,  3.44s/it, avg loss=10.9]\n",
      "2024/01/12 18:46:00 WARNING mlflow.models.model: Logging model metadata to the tracking server has failed. The model artifacts have been logged successfully under s3://digitaldefiancemlartifacts/5/9475994d7cd04b8cb522484b442441f7/artifacts. Set logging level to DEBUG via `logging.getLogger(\"mlflow\").setLevel(logging.DEBUG)` to see the full traceback.\n",
      "(14) lr=3.20e-06: 100%|██████████| 10/10 [00:34<00:00,  3.43s/it, avg loss=10.9]\n",
      "2024/01/12 18:46:41 WARNING mlflow.models.model: Logging model metadata to the tracking server has failed. The model artifacts have been logged successfully under s3://digitaldefiancemlartifacts/5/9475994d7cd04b8cb522484b442441f7/artifacts. Set logging level to DEBUG via `logging.getLogger(\"mlflow\").setLevel(logging.DEBUG)` to see the full traceback.\n",
      "(15) lr=3.42e-06: 100%|██████████| 10/10 [00:34<00:00,  3.42s/it, avg loss=10.9]\n",
      "2024/01/12 18:47:22 WARNING mlflow.models.model: Logging model metadata to the tracking server has failed. The model artifacts have been logged successfully under s3://digitaldefiancemlartifacts/5/9475994d7cd04b8cb522484b442441f7/artifacts. Set logging level to DEBUG via `logging.getLogger(\"mlflow\").setLevel(logging.DEBUG)` to see the full traceback.\n",
      "(16) lr=3.65e-06: 100%|██████████| 10/10 [00:33<00:00,  3.39s/it, avg loss=10.9]\n",
      "2024/01/12 18:48:03 WARNING mlflow.models.model: Logging model metadata to the tracking server has failed. The model artifacts have been logged successfully under s3://digitaldefiancemlartifacts/5/9475994d7cd04b8cb522484b442441f7/artifacts. Set logging level to DEBUG via `logging.getLogger(\"mlflow\").setLevel(logging.DEBUG)` to see the full traceback.\n",
      "(17) lr=3.88e-06: 100%|██████████| 10/10 [00:33<00:00,  3.37s/it, avg loss=10.9]\n",
      "2024/01/12 18:48:44 WARNING mlflow.models.model: Logging model metadata to the tracking server has failed. The model artifacts have been logged successfully under s3://digitaldefiancemlartifacts/5/9475994d7cd04b8cb522484b442441f7/artifacts. Set logging level to DEBUG via `logging.getLogger(\"mlflow\").setLevel(logging.DEBUG)` to see the full traceback.\n",
      "(18) lr=4.11e-06: 100%|██████████| 10/10 [00:34<00:00,  3.42s/it, avg loss=10.9]\n",
      "2024/01/12 18:49:25 WARNING mlflow.models.model: Logging model metadata to the tracking server has failed. The model artifacts have been logged successfully under s3://digitaldefiancemlartifacts/5/9475994d7cd04b8cb522484b442441f7/artifacts. Set logging level to DEBUG via `logging.getLogger(\"mlflow\").setLevel(logging.DEBUG)` to see the full traceback.\n",
      "(19) lr=4.34e-06: 100%|██████████| 10/10 [00:33<00:00,  3.37s/it, avg loss=10.9]\n",
      "2024/01/12 18:50:06 WARNING mlflow.models.model: Logging model metadata to the tracking server has failed. The model artifacts have been logged successfully under s3://digitaldefiancemlartifacts/5/9475994d7cd04b8cb522484b442441f7/artifacts. Set logging level to DEBUG via `logging.getLogger(\"mlflow\").setLevel(logging.DEBUG)` to see the full traceback.\n",
      "(20) lr=4.56e-06:  10%|█          | 1/10 [00:03<00:30,  3.35s/it, avg loss=10.9]^C\n"
     ]
    }
   ],
   "source": [
    "!python -m train.worker"
   ]
  },
  {
   "cell_type": "code",
   "execution_count": null,
   "metadata": {},
   "outputs": [],
   "source": []
  },
  {
   "cell_type": "code",
   "execution_count": null,
   "metadata": {},
   "outputs": [],
   "source": []
  }
 ],
 "metadata": {
  "kernelspec": {
   "display_name": "Python 3",
   "language": "python",
   "name": "python3"
  },
  "language_info": {
   "codemirror_mode": {
    "name": "ipython",
    "version": 3
   },
   "file_extension": ".py",
   "mimetype": "text/x-python",
   "name": "python",
   "nbconvert_exporter": "python",
   "pygments_lexer": "ipython3",
   "version": "3.10.13"
  }
 },
 "nbformat": 4,
 "nbformat_minor": 2
}
