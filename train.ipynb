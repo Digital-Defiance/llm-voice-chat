{
 "cells": [
  {
   "cell_type": "code",
   "execution_count": null,
   "metadata": {},
   "outputs": [],
   "source": [
    "!pip install .devcontainer/requirements.txt"
   ]
  },
  {
   "cell_type": "code",
   "execution_count": 8,
   "metadata": {},
   "outputs": [],
   "source": [
    "from train.config import TrainingLoopFactory, MLFlowSettings, AWSFactory\n",
    "from model import ModelFactory, gpt2_encoder\n",
    "import os\n",
    "\n",
    "aws_factory = AWSFactory(\n",
    "    # access_key_id = \"*\",\n",
    "    # secret_access_key = \"*\",\n",
    ")\n",
    "\n",
    "training_loop_factory = TrainingLoopFactory(\n",
    "    number_of_epochs = 100,\n",
    "    number_of_batches = 10,\n",
    "    learning_rate = 0.001,\n",
    "    loss_function = \"CrossEntropyLoss\",\n",
    "    batch_size = 32,\n",
    "    input_text_file = \"train/static/raw_data.txt\",\n",
    "    split_ratio = 0.9,\n",
    ")\n",
    "\n",
    "mlflow_settings = MLFlowSettings(\n",
    "    experiment_id = 5,\n",
    "    # run_id = None,\n",
    "    # tracking_uri = \"*\",\n",
    "    # tracking_username = \"*\",\n",
    "    # tracking_password = \"*\",\n",
    "    log_system_metrics = True,\n",
    "    is_local = True,\n",
    ")\n",
    "\n",
    "model_factory = ModelFactory(\n",
    "    coordinates = 300,\n",
    "    tokens = gpt2_encoder.max_token_value,\n",
    "    words = 50,\n",
    "    number_of_blocks = 10,\n",
    "    number_of_heads = 20,\n",
    "    bias = False,\n",
    "    attention = \"scaled_dot_product\", # or \"metric\"\n",
    ")\n",
    "\n",
    "for settings in [training_loop_factory, model_factory, mlflow_settings, aws_factory]:\n",
    "    os.environ.update(settings.to_exports())\n",
    "\n",
    "del os.environ[\"MLFLOW_RUN_ID\"]\n",
    "\n"
   ]
  },
  {
   "cell_type": "code",
   "execution_count": 9,
   "metadata": {},
   "outputs": [
    {
     "name": "stdout",
     "output_type": "stream",
     "text": [
      "2024-01-12 16:43:16,955 [INFO] Using device cpu\n",
      "2024-01-12 16:43:16,955 [INFO] Using torch version 2.1.2+cu121\n",
      "2024-01-12 16:43:16,955 [INFO] Using mlflow version 2.9.2\n",
      "2024-01-12 16:43:16,957 [INFO] Connecting to MLFlow and starting\n",
      "2024-01-12 16:43:16,957 [INFO] Starting run with kwargs {'run_id': None, 'experiment_id': 5, 'log_system_metrics': True}\n",
      "2024/01/12 16:43:17 WARNING mlflow.system_metrics.system_metrics_monitor: Skip logging GPU metrics because creating `GPUMonitor` failed with error: `pynvml` is not installed, to log GPU metrics please run `pip install pynvml` to install it..\n",
      "2024/01/12 16:43:17 INFO mlflow.system_metrics.system_metrics_monitor: Started monitoring system metrics.\n",
      "2024-01-12 16:43:17,456 [INFO] Loading model\n",
      "Epoch 0 training: 100%|█| 10/10 [01:04<00:00,  6.43s/it, avg_training_loss=9.65]\n",
      "Epoch 1 training: 100%|█| 10/10 [01:02<00:00,  6.20s/it, avg_training_loss=6.63]\n",
      "/usr/local/lib/python3.10/site-packages/_distutils_hack/__init__.py:18: UserWarning: Distutils was imported before Setuptools, but importing Setuptools also replaces the `distutils` module in `sys.modules`. This may lead to undesirable behaviors or errors. To avoid these issues, avoid using distutils directly, ensure that setuptools is installed in the traditional way (e.g. not an editable install), and/or make sure that setuptools is always imported before distutils.\n",
      "  warnings.warn(\n",
      "/usr/local/lib/python3.10/site-packages/_distutils_hack/__init__.py:33: UserWarning: Setuptools is replacing distutils.\n",
      "  warnings.warn(\"Setuptools is replacing distutils.\")\n",
      "Epoch 2 training:  40%|▊ | 4/10 [00:24<00:37,  6.17s/it, avg_training_loss=6.26]"
     ]
    }
   ],
   "source": [
    "!python -m train.worker"
   ]
  },
  {
   "cell_type": "code",
   "execution_count": null,
   "metadata": {},
   "outputs": [],
   "source": []
  }
 ],
 "metadata": {
  "kernelspec": {
   "display_name": "Python 3",
   "language": "python",
   "name": "python3"
  },
  "language_info": {
   "codemirror_mode": {
    "name": "ipython",
    "version": 3
   },
   "file_extension": ".py",
   "mimetype": "text/x-python",
   "name": "python",
   "nbconvert_exporter": "python",
   "pygments_lexer": "ipython3",
   "version": "3.10.13"
  }
 },
 "nbformat": 4,
 "nbformat_minor": 2
}
