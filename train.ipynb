{
 "cells": [
  {
   "cell_type": "code",
   "execution_count": null,
   "metadata": {},
   "outputs": [],
   "source": [
    "!pip install -r .devcontainer/requirements.txt"
   ]
  },
  {
   "cell_type": "code",
   "execution_count": 1,
   "metadata": {},
   "outputs": [],
   "source": [
    "from train.config import TrainingLoopFactory, MLFlowSettings, AWSFactory\n",
    "from model import ModelFactory, gpt2_encoder\n",
    "import os\n",
    "\n",
    "\n",
    "\n",
    "aws_factory = AWSFactory(\n",
    "    # access_key_id = \"*\",\n",
    "    # secret_access_key = \"*\",\n",
    ")\n",
    "\n",
    "training_loop_factory = TrainingLoopFactory(\n",
    "    number_of_epochs = 100,\n",
    "    number_of_batches = 10,\n",
    "    loss_function = \"CrossEntropyLoss\",\n",
    "    batch_size = 32,\n",
    "    input_text_file = \"train/static/raw_data.txt\",\n",
    "    split_ratio = 0.9,\n",
    ")\n",
    "\n",
    "mlflow_settings = MLFlowSettings(\n",
    "    experiment_id = 5,\n",
    "    # run_id = None,\n",
    "    # tracking_uri = \"*\",\n",
    "    # tracking_username = \"*\",\n",
    "    # tracking_password = \"*\",\n",
    "    log_system_metrics = True,\n",
    "    is_local = True,\n",
    ")\n",
    "\n",
    "model_factory = ModelFactory(\n",
    "    coordinates = 300,\n",
    "    tokens = gpt2_encoder.max_token_value,\n",
    "    words = 25,\n",
    "    number_of_blocks = 10,\n",
    "    number_of_heads = 20,\n",
    "    bias = False,\n",
    "    attention = \"metric\"# \"scaled_dot_product\", # or \"metric\"\n",
    ")\n",
    "\n",
    "for settings in [training_loop_factory, model_factory, mlflow_settings, aws_factory]:\n",
    "    os.environ.update(settings.to_exports())\n",
    "\n",
    "del os.environ[\"MLFLOW_RUN_ID\"]\n",
    "\n"
   ]
  },
  {
   "cell_type": "code",
   "execution_count": 14,
   "metadata": {},
   "outputs": [
    {
     "name": "stdout",
     "output_type": "stream",
     "text": [
      "2024-01-16 09:43:00,037 [INFO] Using device cpu\n",
      "2024-01-16 09:43:00,037 [INFO] Using torch version 2.1.2+cu121\n",
      "2024-01-16 09:43:00,037 [INFO] Using mlflow version 2.9.2\n",
      "2024-01-16 09:43:00,041 [INFO] Connecting to MLFlow and starting\n",
      "2024-01-16 09:43:00,041 [INFO] Starting run with kwargs {'run_id': None, 'experiment_id': 5, 'log_system_metrics': True}\n",
      "2024/01/16 09:43:00 WARNING mlflow.system_metrics.system_metrics_monitor: Skip logging GPU metrics because creating `GPUMonitor` failed with error: `pynvml` is not installed, to log GPU metrics please run `pip install pynvml` to install it..\n",
      "2024/01/16 09:43:00 INFO mlflow.system_metrics.system_metrics_monitor: Started monitoring system metrics.\n",
      "2024-01-16 09:43:00,377 [INFO] Loading model\n",
      "(1) lr=2.28e-07: 100%|█████████████| 10/10 [00:50<00:00,  5.03s/it, avg loss=11]\n",
      "(2) lr=4.56e-07: 100%|█████████████| 10/10 [00:42<00:00,  4.26s/it, avg loss=11]\n",
      "/usr/local/lib/python3.10/site-packages/_distutils_hack/__init__.py:18: UserWarning: Distutils was imported before Setuptools, but importing Setuptools also replaces the `distutils` module in `sys.modules`. This may lead to undesirable behaviors or errors. To avoid these issues, avoid using distutils directly, ensure that setuptools is installed in the traditional way (e.g. not an editable install), and/or make sure that setuptools is always imported before distutils.\n",
      "  warnings.warn(\n",
      "/usr/local/lib/python3.10/site-packages/_distutils_hack/__init__.py:33: UserWarning: Setuptools is replacing distutils.\n",
      "  warnings.warn(\"Setuptools is replacing distutils.\")\n",
      "(3) lr=6.85e-07: 100%|█████████████| 10/10 [00:50<00:00,  5.00s/it, avg loss=11]\n",
      "(4) lr=9.13e-07:  90%|████████████▌ | 9/10 [00:40<00:04,  4.32s/it, avg loss=11]^C\n"
     ]
    }
   ],
   "source": [
    "!python -m train.worker"
   ]
  }
 ],
 "metadata": {
  "kernelspec": {
   "display_name": "Python 3",
   "language": "python",
   "name": "python3"
  },
  "language_info": {
   "codemirror_mode": {
    "name": "ipython",
    "version": 3
   },
   "file_extension": ".py",
   "mimetype": "text/x-python",
   "name": "python",
   "nbconvert_exporter": "python",
   "pygments_lexer": "ipython3",
   "version": "3.10.13"
  }
 },
 "nbformat": 4,
 "nbformat_minor": 2
}
