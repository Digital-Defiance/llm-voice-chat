{
 "cells": [
  {
   "cell_type": "markdown",
   "metadata": {},
   "source": [
    "# Explore"
   ]
  },
  {
   "cell_type": "code",
   "execution_count": 1,
   "metadata": {},
   "outputs": [],
   "source": [
    "from model import ModelFactory"
   ]
  },
  {
   "cell_type": "code",
   "execution_count": 3,
   "metadata": {},
   "outputs": [
    {
     "data": {
      "text/plain": [
       "47005600"
      ]
     },
     "execution_count": 3,
     "metadata": {},
     "output_type": "execute_result"
    }
   ],
   "source": [
    "model_factory = ModelFactory()\n",
    "model_factory.estimate_model_size()"
   ]
  },
  {
   "cell_type": "code",
   "execution_count": 6,
   "metadata": {},
   "outputs": [
    {
     "data": {
      "text/plain": [
       "Sequential(\n",
       "  (sequence_encoder): SequenceEncoder(\n",
       "    (vocabolary_enconding_tc): Embedding(50256, 400)\n",
       "    (positional_encoding_wc): Embedding(1000, 400)\n",
       "  )\n",
       "  (block_0): TransformerBlock(\n",
       "    (attention_layer): Sequential(\n",
       "      (0): LayerNorm((400,), eps=1e-05, elementwise_affine=True)\n",
       "      (1): ScaledDotProductAttention(\n",
       "        (mixer_cc): Linear(in_features=400, out_features=400, bias=False)\n",
       "      )\n",
       "    )\n",
       "    (perceptron_layer): Sequential(\n",
       "      (0): LayerNorm((400,), eps=1e-05, elementwise_affine=True)\n",
       "      (1): Linear(in_features=400, out_features=1600, bias=True)\n",
       "      (2): GELU(approximate='none')\n",
       "      (3): Linear(in_features=1600, out_features=400, bias=True)\n",
       "    )\n",
       "  )\n",
       "  (block_1): TransformerBlock(\n",
       "    (attention_layer): Sequential(\n",
       "      (0): LayerNorm((400,), eps=1e-05, elementwise_affine=True)\n",
       "      (1): ScaledDotProductAttention(\n",
       "        (mixer_cc): Linear(in_features=400, out_features=400, bias=False)\n",
       "      )\n",
       "    )\n",
       "    (perceptron_layer): Sequential(\n",
       "      (0): LayerNorm((400,), eps=1e-05, elementwise_affine=True)\n",
       "      (1): Linear(in_features=400, out_features=1600, bias=True)\n",
       "      (2): GELU(approximate='none')\n",
       "      (3): Linear(in_features=1600, out_features=400, bias=True)\n",
       "    )\n",
       "  )\n",
       "  (block_2): TransformerBlock(\n",
       "    (attention_layer): Sequential(\n",
       "      (0): LayerNorm((400,), eps=1e-05, elementwise_affine=True)\n",
       "      (1): ScaledDotProductAttention(\n",
       "        (mixer_cc): Linear(in_features=400, out_features=400, bias=False)\n",
       "      )\n",
       "    )\n",
       "    (perceptron_layer): Sequential(\n",
       "      (0): LayerNorm((400,), eps=1e-05, elementwise_affine=True)\n",
       "      (1): Linear(in_features=400, out_features=1600, bias=True)\n",
       "      (2): GELU(approximate='none')\n",
       "      (3): Linear(in_features=1600, out_features=400, bias=True)\n",
       "    )\n",
       "  )\n",
       "  (block_3): TransformerBlock(\n",
       "    (attention_layer): Sequential(\n",
       "      (0): LayerNorm((400,), eps=1e-05, elementwise_affine=True)\n",
       "      (1): ScaledDotProductAttention(\n",
       "        (mixer_cc): Linear(in_features=400, out_features=400, bias=False)\n",
       "      )\n",
       "    )\n",
       "    (perceptron_layer): Sequential(\n",
       "      (0): LayerNorm((400,), eps=1e-05, elementwise_affine=True)\n",
       "      (1): Linear(in_features=400, out_features=1600, bias=True)\n",
       "      (2): GELU(approximate='none')\n",
       "      (3): Linear(in_features=1600, out_features=400, bias=True)\n",
       "    )\n",
       "  )\n",
       "  (block_4): TransformerBlock(\n",
       "    (attention_layer): Sequential(\n",
       "      (0): LayerNorm((400,), eps=1e-05, elementwise_affine=True)\n",
       "      (1): ScaledDotProductAttention(\n",
       "        (mixer_cc): Linear(in_features=400, out_features=400, bias=False)\n",
       "      )\n",
       "    )\n",
       "    (perceptron_layer): Sequential(\n",
       "      (0): LayerNorm((400,), eps=1e-05, elementwise_affine=True)\n",
       "      (1): Linear(in_features=400, out_features=1600, bias=True)\n",
       "      (2): GELU(approximate='none')\n",
       "      (3): Linear(in_features=1600, out_features=400, bias=True)\n",
       "    )\n",
       "  )\n",
       "  (block_5): TransformerBlock(\n",
       "    (attention_layer): Sequential(\n",
       "      (0): LayerNorm((400,), eps=1e-05, elementwise_affine=True)\n",
       "      (1): ScaledDotProductAttention(\n",
       "        (mixer_cc): Linear(in_features=400, out_features=400, bias=False)\n",
       "      )\n",
       "    )\n",
       "    (perceptron_layer): Sequential(\n",
       "      (0): LayerNorm((400,), eps=1e-05, elementwise_affine=True)\n",
       "      (1): Linear(in_features=400, out_features=1600, bias=True)\n",
       "      (2): GELU(approximate='none')\n",
       "      (3): Linear(in_features=1600, out_features=400, bias=True)\n",
       "    )\n",
       "  )\n",
       "  (block_6): TransformerBlock(\n",
       "    (attention_layer): Sequential(\n",
       "      (0): LayerNorm((400,), eps=1e-05, elementwise_affine=True)\n",
       "      (1): ScaledDotProductAttention(\n",
       "        (mixer_cc): Linear(in_features=400, out_features=400, bias=False)\n",
       "      )\n",
       "    )\n",
       "    (perceptron_layer): Sequential(\n",
       "      (0): LayerNorm((400,), eps=1e-05, elementwise_affine=True)\n",
       "      (1): Linear(in_features=400, out_features=1600, bias=True)\n",
       "      (2): GELU(approximate='none')\n",
       "      (3): Linear(in_features=1600, out_features=400, bias=True)\n",
       "    )\n",
       "  )\n",
       "  (block_7): TransformerBlock(\n",
       "    (attention_layer): Sequential(\n",
       "      (0): LayerNorm((400,), eps=1e-05, elementwise_affine=True)\n",
       "      (1): ScaledDotProductAttention(\n",
       "        (mixer_cc): Linear(in_features=400, out_features=400, bias=False)\n",
       "      )\n",
       "    )\n",
       "    (perceptron_layer): Sequential(\n",
       "      (0): LayerNorm((400,), eps=1e-05, elementwise_affine=True)\n",
       "      (1): Linear(in_features=400, out_features=1600, bias=True)\n",
       "      (2): GELU(approximate='none')\n",
       "      (3): Linear(in_features=1600, out_features=400, bias=True)\n",
       "    )\n",
       "  )\n",
       "  (block_8): TransformerBlock(\n",
       "    (attention_layer): Sequential(\n",
       "      (0): LayerNorm((400,), eps=1e-05, elementwise_affine=True)\n",
       "      (1): ScaledDotProductAttention(\n",
       "        (mixer_cc): Linear(in_features=400, out_features=400, bias=False)\n",
       "      )\n",
       "    )\n",
       "    (perceptron_layer): Sequential(\n",
       "      (0): LayerNorm((400,), eps=1e-05, elementwise_affine=True)\n",
       "      (1): Linear(in_features=400, out_features=1600, bias=True)\n",
       "      (2): GELU(approximate='none')\n",
       "      (3): Linear(in_features=1600, out_features=400, bias=True)\n",
       "    )\n",
       "  )\n",
       "  (block_9): TransformerBlock(\n",
       "    (attention_layer): Sequential(\n",
       "      (0): LayerNorm((400,), eps=1e-05, elementwise_affine=True)\n",
       "      (1): ScaledDotProductAttention(\n",
       "        (mixer_cc): Linear(in_features=400, out_features=400, bias=False)\n",
       "      )\n",
       "    )\n",
       "    (perceptron_layer): Sequential(\n",
       "      (0): LayerNorm((400,), eps=1e-05, elementwise_affine=True)\n",
       "      (1): Linear(in_features=400, out_features=1600, bias=True)\n",
       "      (2): GELU(approximate='none')\n",
       "      (3): Linear(in_features=1600, out_features=400, bias=True)\n",
       "    )\n",
       "  )\n",
       "  (layer_norm_c): LayerNorm((400,), eps=1e-05, elementwise_affine=True)\n",
       "  (language_model_weights_tc): Linear(in_features=400, out_features=50256, bias=False)\n",
       ")"
      ]
     },
     "execution_count": 6,
     "metadata": {},
     "output_type": "execute_result"
    }
   ],
   "source": [
    "model = model_factory.create_model()\n",
    "model"
   ]
  },
  {
   "cell_type": "code",
   "execution_count": null,
   "metadata": {},
   "outputs": [],
   "source": []
  }
 ],
 "metadata": {
  "kernelspec": {
   "display_name": "Python 3",
   "language": "python",
   "name": "python3"
  },
  "language_info": {
   "codemirror_mode": {
    "name": "ipython",
    "version": 3
   },
   "file_extension": ".py",
   "mimetype": "text/x-python",
   "name": "python",
   "nbconvert_exporter": "python",
   "pygments_lexer": "ipython3",
   "version": "3.10.13"
  }
 },
 "nbformat": 4,
 "nbformat_minor": 2
}
